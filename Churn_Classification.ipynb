{
 "cells": [
  {
   "cell_type": "code",
   "execution_count": 1,
   "metadata": {
    "colab": {
     "base_uri": "https://localhost:8080/",
     "height": 346
    },
    "colab_type": "code",
    "id": "9ZEwPiQsn0qn",
    "outputId": "a70c8e18-e595-4fb3-ef5b-2756a9364886"
   },
   "outputs": [
    {
     "data": {
      "text/html": [
       "<div>\n",
       "<style scoped>\n",
       "    .dataframe tbody tr th:only-of-type {\n",
       "        vertical-align: middle;\n",
       "    }\n",
       "\n",
       "    .dataframe tbody tr th {\n",
       "        vertical-align: top;\n",
       "    }\n",
       "\n",
       "    .dataframe thead th {\n",
       "        text-align: right;\n",
       "    }\n",
       "</style>\n",
       "<table border=\"1\" class=\"dataframe\">\n",
       "  <thead>\n",
       "    <tr style=\"text-align: right;\">\n",
       "      <th></th>\n",
       "      <th>customerID</th>\n",
       "      <th>gender</th>\n",
       "      <th>SeniorCitizen</th>\n",
       "      <th>Partner</th>\n",
       "      <th>Dependents</th>\n",
       "      <th>tenure</th>\n",
       "      <th>PhoneService</th>\n",
       "      <th>MultipleLines</th>\n",
       "      <th>InternetService</th>\n",
       "      <th>OnlineSecurity</th>\n",
       "      <th>...</th>\n",
       "      <th>DeviceProtection</th>\n",
       "      <th>TechSupport</th>\n",
       "      <th>StreamingTV</th>\n",
       "      <th>StreamingMovies</th>\n",
       "      <th>Contract</th>\n",
       "      <th>PaperlessBilling</th>\n",
       "      <th>PaymentMethod</th>\n",
       "      <th>MonthlyCharges</th>\n",
       "      <th>TotalCharges</th>\n",
       "      <th>Churn</th>\n",
       "    </tr>\n",
       "  </thead>\n",
       "  <tbody>\n",
       "    <tr>\n",
       "      <th>0</th>\n",
       "      <td>7590-VHVEG</td>\n",
       "      <td>Female</td>\n",
       "      <td>0</td>\n",
       "      <td>Yes</td>\n",
       "      <td>No</td>\n",
       "      <td>1</td>\n",
       "      <td>No</td>\n",
       "      <td>No phone service</td>\n",
       "      <td>DSL</td>\n",
       "      <td>No</td>\n",
       "      <td>...</td>\n",
       "      <td>No</td>\n",
       "      <td>No</td>\n",
       "      <td>No</td>\n",
       "      <td>No</td>\n",
       "      <td>Month-to-month</td>\n",
       "      <td>Yes</td>\n",
       "      <td>Electronic check</td>\n",
       "      <td>29.85</td>\n",
       "      <td>29.85</td>\n",
       "      <td>No</td>\n",
       "    </tr>\n",
       "    <tr>\n",
       "      <th>1</th>\n",
       "      <td>5575-GNVDE</td>\n",
       "      <td>Male</td>\n",
       "      <td>0</td>\n",
       "      <td>No</td>\n",
       "      <td>No</td>\n",
       "      <td>34</td>\n",
       "      <td>Yes</td>\n",
       "      <td>No</td>\n",
       "      <td>DSL</td>\n",
       "      <td>Yes</td>\n",
       "      <td>...</td>\n",
       "      <td>Yes</td>\n",
       "      <td>No</td>\n",
       "      <td>No</td>\n",
       "      <td>No</td>\n",
       "      <td>One year</td>\n",
       "      <td>No</td>\n",
       "      <td>Mailed check</td>\n",
       "      <td>56.95</td>\n",
       "      <td>1889.5</td>\n",
       "      <td>No</td>\n",
       "    </tr>\n",
       "    <tr>\n",
       "      <th>2</th>\n",
       "      <td>3668-QPYBK</td>\n",
       "      <td>Male</td>\n",
       "      <td>0</td>\n",
       "      <td>No</td>\n",
       "      <td>No</td>\n",
       "      <td>2</td>\n",
       "      <td>Yes</td>\n",
       "      <td>No</td>\n",
       "      <td>DSL</td>\n",
       "      <td>Yes</td>\n",
       "      <td>...</td>\n",
       "      <td>No</td>\n",
       "      <td>No</td>\n",
       "      <td>No</td>\n",
       "      <td>No</td>\n",
       "      <td>Month-to-month</td>\n",
       "      <td>Yes</td>\n",
       "      <td>Mailed check</td>\n",
       "      <td>53.85</td>\n",
       "      <td>108.15</td>\n",
       "      <td>Yes</td>\n",
       "    </tr>\n",
       "    <tr>\n",
       "      <th>3</th>\n",
       "      <td>7795-CFOCW</td>\n",
       "      <td>Male</td>\n",
       "      <td>0</td>\n",
       "      <td>No</td>\n",
       "      <td>No</td>\n",
       "      <td>45</td>\n",
       "      <td>No</td>\n",
       "      <td>No phone service</td>\n",
       "      <td>DSL</td>\n",
       "      <td>Yes</td>\n",
       "      <td>...</td>\n",
       "      <td>Yes</td>\n",
       "      <td>Yes</td>\n",
       "      <td>No</td>\n",
       "      <td>No</td>\n",
       "      <td>One year</td>\n",
       "      <td>No</td>\n",
       "      <td>Bank transfer (automatic)</td>\n",
       "      <td>42.30</td>\n",
       "      <td>1840.75</td>\n",
       "      <td>No</td>\n",
       "    </tr>\n",
       "    <tr>\n",
       "      <th>4</th>\n",
       "      <td>9237-HQITU</td>\n",
       "      <td>Female</td>\n",
       "      <td>0</td>\n",
       "      <td>No</td>\n",
       "      <td>No</td>\n",
       "      <td>2</td>\n",
       "      <td>Yes</td>\n",
       "      <td>No</td>\n",
       "      <td>Fiber optic</td>\n",
       "      <td>No</td>\n",
       "      <td>...</td>\n",
       "      <td>No</td>\n",
       "      <td>No</td>\n",
       "      <td>No</td>\n",
       "      <td>No</td>\n",
       "      <td>Month-to-month</td>\n",
       "      <td>Yes</td>\n",
       "      <td>Electronic check</td>\n",
       "      <td>70.70</td>\n",
       "      <td>151.65</td>\n",
       "      <td>Yes</td>\n",
       "    </tr>\n",
       "  </tbody>\n",
       "</table>\n",
       "<p>5 rows × 21 columns</p>\n",
       "</div>"
      ],
      "text/plain": [
       "   customerID  gender  SeniorCitizen Partner Dependents  tenure PhoneService  \\\n",
       "0  7590-VHVEG  Female              0     Yes         No       1           No   \n",
       "1  5575-GNVDE    Male              0      No         No      34          Yes   \n",
       "2  3668-QPYBK    Male              0      No         No       2          Yes   \n",
       "3  7795-CFOCW    Male              0      No         No      45           No   \n",
       "4  9237-HQITU  Female              0      No         No       2          Yes   \n",
       "\n",
       "      MultipleLines InternetService OnlineSecurity  ... DeviceProtection  \\\n",
       "0  No phone service             DSL             No  ...               No   \n",
       "1                No             DSL            Yes  ...              Yes   \n",
       "2                No             DSL            Yes  ...               No   \n",
       "3  No phone service             DSL            Yes  ...              Yes   \n",
       "4                No     Fiber optic             No  ...               No   \n",
       "\n",
       "  TechSupport StreamingTV StreamingMovies        Contract PaperlessBilling  \\\n",
       "0          No          No              No  Month-to-month              Yes   \n",
       "1          No          No              No        One year               No   \n",
       "2          No          No              No  Month-to-month              Yes   \n",
       "3         Yes          No              No        One year               No   \n",
       "4          No          No              No  Month-to-month              Yes   \n",
       "\n",
       "               PaymentMethod MonthlyCharges  TotalCharges Churn  \n",
       "0           Electronic check          29.85         29.85    No  \n",
       "1               Mailed check          56.95        1889.5    No  \n",
       "2               Mailed check          53.85        108.15   Yes  \n",
       "3  Bank transfer (automatic)          42.30       1840.75    No  \n",
       "4           Electronic check          70.70        151.65   Yes  \n",
       "\n",
       "[5 rows x 21 columns]"
      ]
     },
     "execution_count": 1,
     "metadata": {
      "tags": []
     },
     "output_type": "execute_result"
    }
   ],
   "source": [
    "# Task 1\n",
    "# Load churn_dataset.csv\n",
    "\n",
    "import pandas as pd\n",
    "\n",
    "df = pd.read_csv('churn_dataset.csv')\n",
    "\n",
    "df.head(5)"
   ]
  },
  {
   "cell_type": "code",
   "execution_count": 2,
   "metadata": {
    "colab": {
     "base_uri": "https://localhost:8080/",
     "height": 456
    },
    "colab_type": "code",
    "id": "kkgCrn_Xp0kn",
    "outputId": "99a66ad7-38a5-4d2b-c313-9091b6374880"
   },
   "outputs": [
    {
     "name": "stdout",
     "output_type": "stream",
     "text": [
      "# of columns:  21\n",
      "# of rows:  7043 \n",
      "\n",
      "Columns in Dataset: \n"
     ]
    },
    {
     "data": {
      "text/plain": [
       "['customerID',\n",
       " 'gender',\n",
       " 'SeniorCitizen',\n",
       " 'Partner',\n",
       " 'Dependents',\n",
       " 'tenure',\n",
       " 'PhoneService',\n",
       " 'MultipleLines',\n",
       " 'InternetService',\n",
       " 'OnlineSecurity',\n",
       " 'OnlineBackup',\n",
       " 'DeviceProtection',\n",
       " 'TechSupport',\n",
       " 'StreamingTV',\n",
       " 'StreamingMovies',\n",
       " 'Contract',\n",
       " 'PaperlessBilling',\n",
       " 'PaymentMethod',\n",
       " 'MonthlyCharges',\n",
       " 'TotalCharges',\n",
       " 'Churn']"
      ]
     },
     "execution_count": 2,
     "metadata": {
      "tags": []
     },
     "output_type": "execute_result"
    }
   ],
   "source": [
    "# Task 1\n",
    "# What is the structure of dataset\n",
    "\n",
    "print('# of columns: ', df.shape[1])\n",
    "print('# of rows: ', df.shape[0], '\\n')\n",
    "\n",
    "print('Columns in Dataset: ')\n",
    "list(df)"
   ]
  },
  {
   "cell_type": "code",
   "execution_count": 3,
   "metadata": {
    "colab": {
     "base_uri": "https://localhost:8080/",
     "height": 70
    },
    "colab_type": "code",
    "id": "hEgKB1TUvIDa",
    "outputId": "6c47dc6c-efa7-4e7e-841c-366b400b0a7c"
   },
   "outputs": [
    {
     "name": "stdout",
     "output_type": "stream",
     "text": [
      "column(s) with null values: \n",
      "\n",
      "TotalCharges with 11 null values\n"
     ]
    }
   ],
   "source": [
    "# Task 1\n",
    "# Which column(s) have null values?\n",
    "\n",
    "import numpy as np\n",
    "\n",
    "# the dataset contains whitespaces instead of empty cells <-- replacing whiespaces with nunpy NaN to later identify these null values\n",
    "df.replace(' ', np.nan, inplace=True)\n",
    "\n",
    "lst_count_null_values = df.count() - len(df) # list with a count of null values for each column in the df \n",
    "lst_column_names = list(df) # list with column names in the df <-- if a column has null values then the count will be less than 0\n",
    "lst_col_null_values = np.empty(shape=[0, 2], dtype=object) # list to put the columns with null values <--[column name, # of null values]\n",
    "\n",
    "for i in range(len(lst_count_null_values)): # loop thru each column in the df and check whether it has null values\n",
    "  if lst_count_null_values[i] < 0:\n",
    "    lst_col_null_values = np.vstack((lst_col_null_values, np.array((lst_column_names[i], abs(lst_count_null_values[i])))))\n",
    "  \n",
    "print('column(s) with null values:', '\\n')\n",
    "for col in range(len(lst_col_null_values)):\n",
    "  print(lst_col_null_values[col][0], 'with', lst_col_null_values[col][1], 'null values')"
   ]
  },
  {
   "cell_type": "code",
   "execution_count": 4,
   "metadata": {
    "colab": {
     "base_uri": "https://localhost:8080/",
     "height": 70
    },
    "colab_type": "code",
    "id": "lVxu9-GqxtX-",
    "outputId": "b607d172-215f-4008-bd79-79ccfb9569ec"
   },
   "outputs": [
    {
     "name": "stdout",
     "output_type": "stream",
     "text": [
      "total null values in dataset: 11\n",
      "total size of dataset: 21 columns * 7043 rows = 147903 values\n",
      "percentage of null values in dataset: 0.0074 %\n"
     ]
    }
   ],
   "source": [
    "# Task 1\n",
    "# Which percentage of null values dataset has?\n",
    "\n",
    "int_count_total_null_values = 0\n",
    "for i in range(len(lst_col_null_values)):\n",
    "  int_count_total_null_values += int(lst_col_null_values[i][1])\n",
    "  \n",
    "int_count_total_values = df.shape[1] * df.shape[0]\n",
    "\n",
    "print('total null values in dataset:', int_count_total_null_values)\n",
    "print('total size of dataset:', df.shape[1], 'columns', '*', df.shape[0], 'rows', '=', int_count_total_values, 'values')\n",
    "print('percentage of null values in dataset:', '%.4f' % ((int_count_total_null_values / int_count_total_values) * 100), '%')\n",
    "\n",
    "# print('Train Score: %.2f RMSE' % (trainScore))"
   ]
  },
  {
   "cell_type": "code",
   "execution_count": 5,
   "metadata": {
    "colab": {
     "base_uri": "https://localhost:8080/",
     "height": 70
    },
    "colab_type": "code",
    "id": "R6KcvclqpoII",
    "outputId": "85f5ec8c-1703-4819-c849-251e9df1b175"
   },
   "outputs": [
    {
     "name": "stdout",
     "output_type": "stream",
     "text": [
      "Looking at the dataset the missing values are supposed to be 0 instead of a whitespace.\n",
      "I was considering replacing filling the MonthlyCharges into the TotalCharges.\n",
      "However, since the tenur is 0 for these records with null values, 0 for TotalCharges is a better value.\n"
     ]
    }
   ],
   "source": [
    "# Task 1\n",
    "# Replace null values with best candidates\n",
    "\n",
    "# I previously replaced the whitespace values from the csv file with this command. With np.nan values I was able to find the null values.\n",
    "#   df.replace(' ', np.nan, inplace=True)\n",
    "\n",
    "print('Looking at the dataset the missing values are supposed to be 0 instead of a whitespace.')\n",
    "print('I was considering replacing filling the MonthlyCharges into the TotalCharges.')\n",
    "print('However, since the tenur is 0 for these records with null values, 0 for TotalCharges is a better value.')\n",
    "\n",
    "df.replace(np.nan, 0, inplace=True) # replacing the np.nan values with 0"
   ]
  },
  {
   "cell_type": "code",
   "execution_count": 6,
   "metadata": {
    "colab": {
     "base_uri": "https://localhost:8080/",
     "height": 421
    },
    "colab_type": "code",
    "id": "Ejdvp2n2jqdE",
    "outputId": "050fdbfb-751f-4ef3-a4ac-9127fefda6ce"
   },
   "outputs": [
    {
     "name": "stdout",
     "output_type": "stream",
     "text": [
      "Pearson correlation with Churn : \n",
      "\n",
      "gender -0.008612095078997885\n",
      "SeniorCitizen 0.15088932817647324\n",
      "Partner 0.15044754495917667\n",
      "Dependents -0.16422140157972476\n",
      "tenure -0.35222867011307796\n",
      "PhoneService 0.011941980029002942\n",
      "MultipleLines 0.0363104366547957\n",
      "InternetService -0.04729138768314237\n",
      "OnlineSecurity -0.332819191689427\n",
      "OnlineBackup -0.07420530149434537\n",
      "DeviceProtection -0.2814648246574705\n",
      "TechSupport -0.32985226446993626\n",
      "StreamingTV -0.20574215693991318\n",
      "StreamingMovies -0.20725609227308128\n",
      "Contract -0.396712629209844\n",
      "PaperlessBilling -0.19182533166646865\n",
      "PaymentMethod -0.2628182020893573\n",
      "MonthlyCharges 0.19335642223784713\n",
      "TotalCharges -0.1983242626039956\n"
     ]
    },
    {
     "name": "stderr",
     "output_type": "stream",
     "text": [
      "/usr/local/lib/python3.6/dist-packages/sklearn/utils/validation.py:595: DataConversionWarning: Data with input dtype object was converted to float64 by MinMaxScaler.\n",
      "  warnings.warn(msg, DataConversionWarning)\n"
     ]
    }
   ],
   "source": [
    "# Task 2\n",
    "# What are the correlations between input variables and target output Churn?\n",
    "\n",
    "from sklearn import preprocessing\n",
    "\n",
    "# To calculate the correlation for non numerical values the data needs to be factorized.\n",
    "\n",
    "columns_original_order = list(df) # initial order of the columns\n",
    "columns_2_factorize = ['customerID', 'gender', 'Partner', 'Dependents', 'PhoneService', 'MultipleLines', 'InternetService', 'OnlineSecurity', 'OnlineBackup', 'DeviceProtection', 'TechSupport', \\\n",
    "                       'StreamingTV', 'StreamingMovies', 'Contract', 'PaperlessBilling', 'PaymentMethod'] # non numerical columns that need to be factorized\n",
    "columns_not_2_factorize = ['SeniorCitizen', 'tenure', 'MonthlyCharges', 'TotalCharges', 'Churn'] # numerical values that do not need to be factorized\n",
    "\n",
    "df_factorized_temp = (df[columns_2_factorize].apply(lambda x: pd.factorize(x)[0])) # factorization of selected columns\n",
    "\n",
    "df_factorized = pd.merge(df[columns_not_2_factorize], df_factorized_temp, left_index=True, right_index=True) # merging the non factorized and factorized dataframes\n",
    "\n",
    "df_factorized.Churn = df_factorized.Churn.map(dict(yes=1, Yes=1, no=0, No=0)) # manually factorizing Churn to make sure we get 1 for yes/True and 0 for no/False\n",
    "\n",
    "df_factorized = df_factorized[columns_original_order] # restoring the initial order of the columns\n",
    "\n",
    "# Correlation calculation\n",
    "\n",
    "df_factorized = df_factorized.drop(columns='customerID') # drop customerID as is logically cannot have an affect on the Churn\n",
    "columns_df_factorized = list(df_factorized)\n",
    "\n",
    "# Normalizing the data (even though not required for correlation it will be required for the training of the model)\n",
    "\n",
    "x = df_factorized.values #returns a numpy array\n",
    "min_max_scaler = preprocessing.MinMaxScaler()\n",
    "x_scaled = min_max_scaler.fit_transform(x)\n",
    "df_factorized_normalized = pd.DataFrame(x_scaled, columns=columns_df_factorized)\n",
    "\n",
    "target_output = 'Churn'\n",
    "\n",
    "print('Pearson correlation with', target_output, ':', '\\n')\n",
    "for i in range(len(columns_df_factorized)-1): # go through each input variable and calculate it's correlation with the target_output\n",
    "  feature = columns_df_factorized[i]\n",
    "  corr = df_factorized_normalized[feature].corr(df_factorized_normalized[target_output], method='pearson')\n",
    "  print(feature, corr)\n",
    "  "
   ]
  },
  {
   "cell_type": "code",
   "execution_count": 7,
   "metadata": {
    "colab": {
     "base_uri": "https://localhost:8080/",
     "height": 158
    },
    "colab_type": "code",
    "id": "A7Wtin3EWbOf",
    "outputId": "23e71430-3fd2-4abe-b78e-cfc61274daf0"
   },
   "outputs": [
    {
     "name": "stdout",
     "output_type": "stream",
     "text": [
      "N_features 16\n",
      "Support is [False  True False  True  True  True  True  True  True  True  True  True\n",
      "  True  True  True  True  True  True False]\n",
      "Ranking [3 1 4 1 1 1 1 1 1 1 1 1 1 1 1 1 1 1 2]\n",
      "Grid Scores [0.73463012 0.78134416 0.7878743  0.78631208 0.78858472 0.79241814\n",
      " 0.79568363 0.79767144 0.80093717 0.80079491 0.80377713 0.80320897\n",
      " 0.80320897 0.80349308 0.80278326 0.80420291 0.80264093 0.80264093\n",
      " 0.80349272]\n"
     ]
    }
   ],
   "source": [
    "# Task 2\n",
    "# What is your strategy for feature selection? (backward, forward, mixed?)\n",
    "\n",
    "# Recursive feature elimination with cross-validation\n",
    "\n",
    "from sklearn.svm import LinearSVC\n",
    "from sklearn.feature_selection import RFECV\n",
    "from sklearn.exceptions import DataConversionWarning, ConvergenceWarning\n",
    "import warnings\n",
    "warnings.filterwarnings(action='ignore', category=ConvergenceWarning)\n",
    "\n",
    "array = df_factorized_normalized.values\n",
    "\n",
    "# convert pandas df to an array for the model\n",
    "X = array[:,0:19]\n",
    "Y = array[:,19]\n",
    "\n",
    "# X = array_norm[:,0:19]\n",
    "# Y = array_norm[:,19]\n",
    "\n",
    "# Feature extraction\n",
    "estimator=LinearSVC(max_iter=1000)\n",
    "selector=RFECV(estimator=estimator,cv=3)\n",
    "selector.fit(X,Y)\n",
    "\n",
    "print(\"N_features %s\"%selector.n_features_)\n",
    "print(\"Support is %s\"%selector.support_) # shows whether feature is selected\n",
    "print(\"Ranking %s\"%selector.ranking_) # ranking of features <-- only rank 1 is selected\n",
    "print(\"Grid Scores %s\"%selector.grid_scores_) # <-- correlation scores for each feature"
   ]
  },
  {
   "cell_type": "code",
   "execution_count": 8,
   "metadata": {
    "colab": {
     "base_uri": "https://localhost:8080/",
     "height": 686
    },
    "colab_type": "code",
    "id": "eT0MEXMMZY23",
    "outputId": "7ccdb748-1a74-4dbc-8584-504c3d571ffc"
   },
   "outputs": [
    {
     "name": "stdout",
     "output_type": "stream",
     "text": [
      "per the Recursive feature elimination with cross-validation these are the optimal features to be selected: \n",
      "\n",
      "# of features to select: 16 \n",
      "\n",
      "the selected features and their grid score: \n",
      "\n",
      "SeniorCitizen 0.7813441567726823\n",
      "Dependents 0.786312077689522\n",
      "tenure 0.788584724128595\n",
      "PhoneService 0.792418136458954\n",
      "MultipleLines 0.795683629130619\n",
      "InternetService 0.7976714386677012\n",
      "OnlineSecurity 0.8009371732904403\n",
      "OnlineBackup 0.8007949060588663\n",
      "DeviceProtection 0.803777134510522\n",
      "TechSupport 0.8032089729007538\n",
      "StreamingTV 0.8032089729007538\n",
      "StreamingMovies 0.8034930839495221\n",
      "Contract 0.8027832599858652\n",
      "PaperlessBilling 0.8042029079131793\n",
      "PaymentMethod 0.8026409322665226\n",
      "MonthlyCharges 0.8026409322665226\n"
     ]
    },
    {
     "data": {
      "image/png": "[encoded data removed]",
      "text/plain": [
       "<Figure size 432x288 with 1 Axes>"
      ]
     },
     "metadata": {
      "tags": []
     },
     "output_type": "display_data"
    }
   ],
   "source": [
    "# Task 2\n",
    "# Which features you selected and why?\n",
    "\n",
    "  # Recursive feature elimination with cross-validation\n",
    "\n",
    "import matplotlib.pyplot as plt\n",
    "\n",
    "lst_feature_parameters = np.empty(shape=[0, 4], dtype=object) # list to put the columns with null values <--[column name, # of null values]\n",
    "lst_column_names = list(df_factorized_normalized)\n",
    "lst_features_2_use = []\n",
    "\n",
    "for i in range(len(lst_column_names)-1): # loop thru each column in the df and check whether it has null values\n",
    "    # add to the numpy array: feature, whether it's included, rank, grid score\n",
    "    lst_feature_parameters = np.vstack((lst_feature_parameters, np.array((lst_column_names[i], selector.support_[i], selector.ranking_[i], selector.grid_scores_[i])))) \n",
    "\n",
    "print('per the Recursive feature elimination with cross-validation these are the optimal features to be selected:', '\\n')\n",
    "print('# of features to select:', selector.n_features_, '\\n')\n",
    "\n",
    "print('the selected features and their grid score:', '\\n') \n",
    "for i in range(len(lst_feature_parameters)): # print all the features that are selected (True)\n",
    "  if lst_feature_parameters[i][1] == 'True':\n",
    "    print(lst_feature_parameters[i][0], lst_feature_parameters[i][3])\n",
    "    lst_features_2_use.append(lst_feature_parameters[i][0])\n",
    "     \n",
    "\n",
    "# Plot showing the the # of features compared grid scores\n",
    "plt.figure()\n",
    "plt.xlabel(\"Number of features selected\")\n",
    "plt.ylabel(\"Cross validation score (nb of correct classifications)\")\n",
    "plt.plot(range(1, len(selector.grid_scores_) + 1), selector.grid_scores_)\n",
    "plt.show()"
   ]
  },
  {
   "cell_type": "code",
   "execution_count": null,
   "metadata": {
    "colab": {},
    "colab_type": "code",
    "id": "m99wTAVlg-k4"
   },
   "outputs": [],
   "source": [
    "# Task 2\n",
    "# Which features you selected and why?\n",
    "\n",
    "# Another way to select the best features. For this method the optimal number of features has to be found by finetuning.\n",
    "# However, I used this method to compare my optimal features from the previous technique of Recursive feature elimination with cross-validation. \n",
    "\n",
    "## Recursive Feature Elimination\n",
    "\n",
    "# from sklearn.feature_selection import RFE\n",
    "# from sklearn.linear_model import LogisticRegression\n",
    "\n",
    "# array = df_factorized_normalized.values\n",
    "  \n",
    "# X = array[:,0:19]\n",
    "# Y = array[:,19]\n",
    "\n",
    "# # Feature extraction\n",
    "# model = LogisticRegression(solver='lbfgs', multi_class='auto', max_iter=1000) #changed\n",
    "# rfe = RFE(model, 12)\n",
    "# fit = rfe.fit(X, Y)\n",
    "\n",
    "# print(\"Num Features: %s\" % (fit.n_features_))\n",
    "# print(\"Selected Features: %s\" % (fit.support_))\n",
    "# print(\"Feature Ranking: %s\" % (fit.ranking_))\n",
    "# print(fit)"
   ]
  },
  {
   "cell_type": "code",
   "execution_count": 10,
   "metadata": {
    "colab": {
     "base_uri": "https://localhost:8080/",
     "height": 123
    },
    "colab_type": "code",
    "id": "YPMujbAyRanu",
    "outputId": "4a850281-f880-4fec-d805-e0a1100d82a5"
   },
   "outputs": [
    {
     "name": "stdout",
     "output_type": "stream",
     "text": [
      "Metric scores of logistic regression model: \n",
      "\n",
      "Accuracy: 0.7963094393186657\n",
      "Recall: 0.5135869565217391\n",
      "Precision: 0.6363636363636364\n",
      "F1 Score: 0.5684210526315789\n"
     ]
    }
   ],
   "source": [
    "# Task 3\n",
    "# Build, train and evaluate a classifier model\n",
    "# Model 1\n",
    "  # Logistic Regression\n",
    "\n",
    "from sklearn.linear_model import LogisticRegression\n",
    "from sklearn.model_selection import train_test_split\n",
    "from sklearn.metrics import recall_score, precision_score, f1_score, accuracy_score\n",
    "\n",
    "# Create Train & Test Data\n",
    "array = df_factorized_normalized[lst_features_2_use + [target_output]].values\n",
    "X = array[:,0:16]\n",
    "Y = array[:,16]\n",
    "\n",
    "X_train, X_test, Y_train, Y_test = train_test_split(X, Y, test_size=0.2, random_state=0) # CHANGE what is random state\n",
    "\n",
    "# train the model\n",
    "model = LogisticRegression(solver='lbfgs')\n",
    "result = model.fit(X_train, Y_train)\n",
    "prediction_test = model.predict(X_test)\n",
    "\n",
    "# Calculate the metric scores\n",
    "\n",
    "accuracy_log_regr = accuracy_score(Y_test, prediction_test) # <-- tp / (tp + fn)\n",
    "recall_log_regr = recall_score(Y_test, prediction_test) # <-- tp / (tp + fn)\n",
    "precision_log_regr = precision_score(Y_test, prediction_test) # <-- tp / (tp + fp)\n",
    "f1_log_regr = f1_score(Y_test, prediction_test) # <-- F1 = 2 * (precision * recall) / (precision + recall)\n",
    "\n",
    "print('Metric scores of logistic regression model:', '\\n')\n",
    "print('Accuracy:', accuracy_log_regr)\n",
    "print('Recall:', recall_log_regr)\n",
    "print('Precision:', precision_log_regr)\n",
    "print('F1 Score:', f1_log_regr)"
   ]
  },
  {
   "cell_type": "code",
   "execution_count": 11,
   "metadata": {
    "colab": {
     "base_uri": "https://localhost:8080/",
     "height": 1382
    },
    "colab_type": "code",
    "id": "OXQFv0ehBz1o",
    "outputId": "6e9db2e9-f461-4175-fc94-2f664b42c911"
   },
   "outputs": [
    {
     "name": "stderr",
     "output_type": "stream",
     "text": [
      "Using TensorFlow backend.\n"
     ]
    },
    {
     "name": "stdout",
     "output_type": "stream",
     "text": [
      "WARNING:tensorflow:From /usr/local/lib/python3.6/dist-packages/tensorflow/python/framework/op_def_library.py:263: colocate_with (from tensorflow.python.framework.ops) is deprecated and will be removed in a future version.\n",
      "Instructions for updating:\n",
      "Colocations handled automatically by placer.\n",
      "WARNING:tensorflow:From /usr/local/lib/python3.6/dist-packages/tensorflow/python/ops/math_ops.py:3066: to_int32 (from tensorflow.python.ops.math_ops) is deprecated and will be removed in a future version.\n",
      "Instructions for updating:\n",
      "Use tf.cast instead.\n",
      "Train on 5634 samples, validate on 1409 samples\n",
      "Epoch 1/15\n",
      "5634/5634 [==============================] - 3s 535us/step - loss: 0.5115 - acc: 0.7533 - val_loss: 0.4500 - val_acc: 0.7722\n",
      "Epoch 2/15\n",
      "5634/5634 [==============================] - 2s 338us/step - loss: 0.4271 - acc: 0.8000 - val_loss: 0.4460 - val_acc: 0.7935\n",
      "Epoch 3/15\n",
      "5634/5634 [==============================] - 2s 339us/step - loss: 0.4215 - acc: 0.8042 - val_loss: 0.4449 - val_acc: 0.7913\n",
      "Epoch 4/15\n",
      "5634/5634 [==============================] - 2s 335us/step - loss: 0.4192 - acc: 0.8026 - val_loss: 0.4421 - val_acc: 0.7935\n",
      "Epoch 5/15\n",
      "5634/5634 [==============================] - 2s 335us/step - loss: 0.4170 - acc: 0.8033 - val_loss: 0.4420 - val_acc: 0.7963\n",
      "Epoch 6/15\n",
      "5634/5634 [==============================] - 2s 333us/step - loss: 0.4164 - acc: 0.8028 - val_loss: 0.4400 - val_acc: 0.8013\n",
      "Epoch 7/15\n",
      "5634/5634 [==============================] - 2s 333us/step - loss: 0.4160 - acc: 0.8039 - val_loss: 0.4398 - val_acc: 0.8013\n",
      "Epoch 8/15\n",
      "5634/5634 [==============================] - 2s 334us/step - loss: 0.4158 - acc: 0.8049 - val_loss: 0.4387 - val_acc: 0.8013\n",
      "Epoch 9/15\n",
      "5634/5634 [==============================] - 2s 333us/step - loss: 0.4155 - acc: 0.8039 - val_loss: 0.4395 - val_acc: 0.7999\n",
      "Epoch 10/15\n",
      "5634/5634 [==============================] - 2s 336us/step - loss: 0.4148 - acc: 0.8040 - val_loss: 0.4373 - val_acc: 0.8013\n",
      "Epoch 11/15\n",
      "5634/5634 [==============================] - 2s 335us/step - loss: 0.4153 - acc: 0.8007 - val_loss: 0.4367 - val_acc: 0.8020\n",
      "Epoch 12/15\n",
      "5634/5634 [==============================] - 2s 338us/step - loss: 0.4145 - acc: 0.8028 - val_loss: 0.4373 - val_acc: 0.7999\n",
      "Epoch 13/15\n",
      "5634/5634 [==============================] - 2s 331us/step - loss: 0.4142 - acc: 0.8044 - val_loss: 0.4372 - val_acc: 0.8013\n",
      "Epoch 14/15\n",
      "5634/5634 [==============================] - 2s 333us/step - loss: 0.4146 - acc: 0.8048 - val_loss: 0.4374 - val_acc: 0.7991\n",
      "Epoch 15/15\n",
      "5634/5634 [==============================] - 2s 332us/step - loss: 0.4139 - acc: 0.8056 - val_loss: 0.4371 - val_acc: 0.8006\n",
      "Metric scores of artificial neural network model: \n",
      "\n",
      "Loss: 0.43710820115653226\n",
      "Accuracy: 0.8005677785663591\n",
      "Recall: 0.5163043478260869\n",
      "Precision: 0.6484641638225256\n",
      "F1 Score: 0.5748865355521937\n"
     ]
    },
    {
     "data": {
      "image/png": "[encoded data removed]",
      "text/plain": [
       "<Figure size 432x288 with 1 Axes>"
      ]
     },
     "metadata": {
      "tags": []
     },
     "output_type": "display_data"
    },
    {
     "data": {
      "image/png": "[encoded data removed]",
      "text/plain": [
       "<Figure size 432x288 with 1 Axes>"
      ]
     },
     "metadata": {
      "tags": []
     },
     "output_type": "display_data"
    }
   ],
   "source": [
    "# Task 3\n",
    "# Build, train and evaluate a classifier model\n",
    "# Model 2\n",
    "\n",
    "  # Artificial Neural Network\n",
    "\n",
    "from sklearn.model_selection import train_test_split\n",
    "import keras\n",
    "from keras.models import Sequential\n",
    "from keras.layers import Dense\n",
    "from keras import optimizers\n",
    "import matplotlib.pyplot as plt\n",
    "\n",
    "# Create Train & Test Data\n",
    "array = df_factorized_normalized[lst_features_2_use + [target_output]].values\n",
    "X = array[:,0:16]\n",
    "Y = array[:,16]\n",
    "\n",
    "X_train, X_test, Y_train, Y_test = train_test_split(X, Y, test_size=0.2, random_state=0) # CHANGE what is random state\n",
    "\n",
    "# Build the neural network model\n",
    "\n",
    "classifier = Sequential()\n",
    "\n",
    "# Input Layer\n",
    "classifier.add(Dense(activation=\"relu\", input_dim=selector.n_features_, units=8, kernel_initializer=\"uniform\")) # output_dim  <-- (16+1)/2==>8 So set Output Dim=6\n",
    "\n",
    "# second hidden layer\n",
    "classifier.add(Dense(activation=\"relu\", units=8, kernel_initializer=\"uniform\"))\n",
    "\n",
    "# output layer\n",
    "classifier.add(Dense(activation=\"sigmoid\", units=1, kernel_initializer=\"uniform\")) # Sigmoid activation function is for Probabilities of 2 categories or less <-- otherwise softmax\n",
    "\n",
    "# Optimizer\n",
    "# sgd = optimizers.SGD(lr=0.01, decay=1e-6, momentum=0.9, nesterov=True) # did not result in better results\n",
    "\n",
    "# compiling\n",
    "classifier.compile(optimizer = 'adam', loss = 'binary_crossentropy', metrics = ['accuracy'])\n",
    "# classifier.compile(loss='mean_squared_error', optimizer=sgd) # did not result in better results\n",
    "\n",
    "# Run the model\n",
    "# classifier.fit(X_train, Y_train, batch_size = 10, nb_epoch = 10)\n",
    "history = classifier.fit(X_train, Y_train, batch_size=10, epochs=15, validation_data=(X_test, Y_test))\n",
    "\n",
    "# Evaluate\n",
    "loss, accuracy = classifier.evaluate(X_test, Y_test, verbose=0)\n",
    "\n",
    "# Calculate the metric scores\n",
    "testPredict = classifier.predict(X_test)\n",
    "int_testPredict = np.around(testPredict)\n",
    "\n",
    "accuracy_ann = accuracy_score(Y_test, int_testPredict) # <-- tp / (tp + fn)\n",
    "recall_ann = recall_score(Y_test, int_testPredict) # <-- tp / (tp + fn)\n",
    "precision_ann = precision_score(Y_test, int_testPredict) # <-- tp / (tp + fp)\n",
    "f1_ann = f1_score(Y_test, int_testPredict) # <-- F1 = 2 * (precision * recall) / (precision + recall)\n",
    "\n",
    "print('Metric scores of artificial neural network model:', '\\n')\n",
    "print('Loss:', loss)\n",
    "print('Accuracy:', accuracy_ann)\n",
    "print('Recall:', recall_ann)\n",
    "print('Precision:', precision_ann)\n",
    "print('F1 Score:', f1_ann)\n",
    "\n",
    "# Progression of the loss and accuracy with each epoch\n",
    "\n",
    "history_dict = history.history\n",
    "loss_values = history_dict['loss']\n",
    "val_loss_values = history_dict['val_loss']\n",
    "epochs = range(1, len(loss_values) + 1)\n",
    "plt.plot(epochs, loss_values, 'bo', label='Training loss')\n",
    "plt.plot(epochs, val_loss_values, 'b', label='Validation loss')\n",
    "plt.title('Training and validation loss')\n",
    "plt.xlabel('Epochs')\n",
    "plt.ylabel('Loss')\n",
    "plt.legend()\n",
    "plt.show()\n",
    "\n",
    "plt.clf()\n",
    "acc = history_dict['acc']\n",
    "val_acc = history_dict['val_acc']\n",
    "plt.plot(epochs, acc, 'bo', label='Training acc')\n",
    "plt.plot(epochs, val_acc, 'b', label='Validation acc')\n",
    "plt.title('Training and validation accuracy')\n",
    "plt.xlabel('Epochs')\n",
    "plt.ylabel('Accuracy')\n",
    "plt.legend()\n",
    "plt.show()"
   ]
  },
  {
   "cell_type": "code",
   "execution_count": 12,
   "metadata": {
    "colab": {
     "base_uri": "https://localhost:8080/",
     "height": 351
    },
    "colab_type": "code",
    "id": "cMo9LrbOz12e",
    "outputId": "438995e2-069d-4654-a338-adbbaad34971"
   },
   "outputs": [
    {
     "name": "stdout",
     "output_type": "stream",
     "text": [
      "I wanted to compare the the performance of two recommended models for Churn analysis (based on online research):\n",
      "logistic regression and an articifial neural network. \n",
      "\n",
      "Looking at the metric scores of each model, the logistic regression model performs just slightly better.\n",
      "However, to make a recommandation as to which to use, more tweaking and fine tuning of each model would be ncessesary. \n",
      "\n",
      "Metric scores of artificial neural network model: \n",
      "\n",
      "Accuracy: 0.8005677785663591\n",
      "Recall: 0.5163043478260869\n",
      "Precision: 0.6484641638225256\n",
      "F1 Score: 0.5748865355521937 \n",
      "\n",
      "Metric scores of logistic regression model: \n",
      "\n",
      "Accuracy: 0.7963094393186657\n",
      "Recall: 0.5135869565217391\n",
      "Precision: 0.6363636363636364\n",
      "F1 Score: 0.5684210526315789\n"
     ]
    }
   ],
   "source": [
    "# Task 3\n",
    "# Explain why you have selected that specific model\n",
    "\n",
    "print('I wanted to compare the the performance of two recommended models for Churn analysis (based on online research):')\n",
    "print('logistic regression and an articifial neural network.', '\\n')\n",
    "\n",
    "print('Looking at the metric scores of each model, the logistic regression model performs just slightly better.')\n",
    "print('However, to make a recommandation as to which to use, more tweaking and fine tuning of each model would be ncessesary.', '\\n')\n",
    "\n",
    "print('Metric scores of artificial neural network model:', '\\n')\n",
    "print('Accuracy:', accuracy_ann)\n",
    "print('Recall:', recall_ann)\n",
    "print('Precision:', precision_ann)\n",
    "print('F1 Score:', f1_ann, '\\n')\n",
    "\n",
    "print('Metric scores of logistic regression model:', '\\n')\n",
    "print('Accuracy:', accuracy_log_regr)\n",
    "print('Recall:', recall_log_regr)\n",
    "print('Precision:', precision_log_regr)\n",
    "print('F1 Score:', f1_log_regr)\n"
   ]
  }
 ],
 "metadata": {
  "accelerator": "GPU",
  "colab": {
   "name": "Find_Coding_Challenge.ipynb",
   "provenance": [],
   "version": "0.3.2"
  },
  "kernelspec": {
   "display_name": "Python 3",
   "language": "python",
   "name": "python3"
  },
  "language_info": {
   "codemirror_mode": {
    "name": "ipython",
    "version": 3
   },
   "file_extension": ".py",
   "mimetype": "text/x-python",
   "name": "python",
   "nbconvert_exporter": "python",
   "pygments_lexer": "ipython3",
   "version": "3.6.10"
  }
 },
 "nbformat": 4,
 "nbformat_minor": 4
}
